{
  "nbformat": 4,
  "nbformat_minor": 0,
  "metadata": {
    "kernelspec": {
      "display_name": "Python 3",
      "language": "python",
      "name": "python3"
    },
    "language_info": {
      "codemirror_mode": {
        "name": "ipython",
        "version": 3
      },
      "file_extension": ".py",
      "mimetype": "text/x-python",
      "name": "python",
      "nbconvert_exporter": "python",
      "pygments_lexer": "ipython3",
      "version": "3.8.3"
    },
    "colab": {
      "name": "Copie de itiiPythonExam.ipynb",
      "provenance": [],
      "collapsed_sections": [],
      "include_colab_link": true
    }
  },
  "cells": [
    {
      "cell_type": "markdown",
      "metadata": {
        "id": "view-in-github",
        "colab_type": "text"
      },
      "source": [
        "<a href=\"https://colab.research.google.com/github/Zennyth/Exam-Python/blob/main/Copie_de_itiiPythonExam.ipynb\" target=\"_parent\"><img src=\"https://colab.research.google.com/assets/colab-badge.svg\" alt=\"Open In Colab\"/></a>"
      ]
    },
    {
      "cell_type": "markdown",
      "metadata": {
        "id": "SxnKvX0ci4aL"
      },
      "source": [
        "# Devoir Python\n",
        "\n",
        "Vous devez rendre votre devoir sur GitHub.\n",
        "Vous avez le droit a tout vos documents et a internet\n",
        "\n",
        "1. votre depot doit etre privé\n",
        "2. vous devez inviter comme colaborateur votre chargé de TD/TP\n",
        "3. Seul le dernier commit avant la fin de la séance sera corrigé.\n"
      ]
    },
    {
      "cell_type": "markdown",
      "metadata": {
        "id": "jk2oA62ui4aW"
      },
      "source": [
        "Ex 1: Integrale de Romberg\n",
        "\n",
        "Ecrire une fonction integ_romberg(f, a, b, epsilon=1e-6) permettant de calculer l’intégrale numérique de la fonction f entre les bornes a et b avec une précision epsilon selon la méthode de Romberg (https://fr.wikipedia.org/wiki/M%C3%A9thode_de_Romberg).\n",
        "\n",
        "Il s’agit d’une méthode qui permet d’améliorer les méthodes usuelles de calcul numérique des intégrales, comme la méthode des Trapèzes.\n",
        "On montre qu’en combinant judicieusement les valeurs obtenues par la méthode des Trapèzes pour différentes subdivisons de l’intervalle d’intégration, on augmente l’ordre de convergence (sa vitesse de convergence). \n"
      ]
    },
    {
      "cell_type": "code",
      "metadata": {
        "id": "Hcx5LR7Wi4aY",
        "colab": {
          "base_uri": "https://localhost:8080/"
        },
        "outputId": "749bbe15-d9f3-4e1c-ce64-65fdde78dc4d"
      },
      "source": [
        "#Mathis Figuet\r\n",
        "\r\n",
        "def rombderg(f,a,b,e):\r\n",
        "  \"\"\"Romberg Integration :\r\n",
        "  3 int ( f ( t ), t=a..b) avec n étapes \"\"\"\r\n",
        "  #On prépare un tableau qui va nous servir pour faire la somme\r\n",
        "  r = []\r\n",
        "  #On initie le premier h\r\n",
        "  h=b-a\r\n",
        "  s = 1\r\n",
        "  #On calcul la première itération du calcul trouvé dans la section algorithme\r\n",
        "  r.append([0.5*h*(f(a)+f(b))])\r\n",
        "  while True : # On va boucler tant que la différence des deux termes succesifs n'est pas plus petite que epsilon => e\r\n",
        "    #On update h en divisant par 2\r\n",
        "    h=h/2\r\n",
        "    #On initie la somme\r\n",
        "    sum=0\r\n",
        "    #On parcours T : T(2**n)\r\n",
        "    for k in range(1,2**s,2):\r\n",
        "      #On update la somme avec la formule f(a+k*h)\r\n",
        "      sum = sum + f(a+(k*h))\r\n",
        "      #On update notre valeur avec 1/2*n(n-1) + somme*h\r\n",
        "      rowi = [0.5*r[s-1][0]+sum*h]\r\n",
        "      #On parcours R\r\n",
        "      for j in range(1, s+1):\r\n",
        "        #On calcul la valeur grace a la formule trouvé dans la section redondance\r\n",
        "        rij = rowi[j-1] + (rowi[j-1]-r[s-1][j-1])/(4**j-1)\r\n",
        "        rowi.append(rij)\r\n",
        "      #On ajoute le resultat dans le tableau\r\n",
        "      r.append(rowi)\r\n",
        "      if abs(r[s][s]-r[s][s-1]) <= e : # Tant que la valeur absolue n'est pas plus petite que epsilon on n'arrete pas le programme\r\n",
        "        return r\r\n",
        "      s = s+1 # On incrémente s chaque fois que la différence n'est pas assez petite pour calculer une nouvelle série d'approximations\r\n",
        "\r\n",
        "def f(x):\r\n",
        "  return 2/(1+x**2)\r\n",
        "\r\n",
        "rombderg(f,-1,2,1e-6)"
      ],
      "execution_count": 71,
      "outputs": [
        {
          "output_type": "execute_result",
          "data": {
            "text/plain": [
              "[[2.0999999999999996],\n",
              " [3.45, 3.9000000000000004],\n",
              " [3.136764705882353, 3.0323529411764705, 2.9745098039215683],\n",
              " [3.565512912482066, 3.708428981348637, 3.7535007173601147, 3.76586565249406],\n",
              " [2.322082298937662,\n",
              "  1.9076054277561942,\n",
              "  1.7875505241833647,\n",
              "  1.7563449655615115,\n",
              "  1.748464492279423],\n",
              " [2.438828530626999,\n",
              "  2.477743941190111,\n",
              "  2.515753175419039,\n",
              "  2.527311947660875,\n",
              "  2.5303353475906767,\n",
              "  2.5310996397268557],\n",
              " [2.921980407533614,\n",
              "  3.0830310331691524,\n",
              "  3.1233835059677553,\n",
              "  3.133028431849481,\n",
              "  3.135403790611005,\n",
              "  3.1359952553646906,\n",
              "  3.136142971021745],\n",
              " [3.369564929677909,\n",
              "  3.518759770392674,\n",
              "  3.547808352874242,\n",
              "  3.554545255206091,\n",
              "  3.556198262356509,\n",
              "  3.556609596150982,\n",
              "  3.556712310275716,\n",
              "  3.5567379813578897],\n",
              " [3.7062983672206444,\n",
              "  3.8185428464015563,\n",
              "  3.8385283848021485,\n",
              "  3.8431429884835437,\n",
              "  3.8442747443003182,\n",
              "  3.844556343989413,\n",
              "  3.8446266606555515,\n",
              "  3.8446442346255436,\n",
              "  3.8446486277933665],\n",
              " [3.944331268865742,\n",
              "  4.023675569414108,\n",
              "  4.037351084281611,\n",
              "  4.0405070001463645,\n",
              "  4.041280976662689,\n",
              "  4.04147355362492,\n",
              "  4.0415216408556,\n",
              "  4.041533659105017,\n",
              "  4.041536663445056,\n",
              "  4.041537414516172]]"
            ]
          },
          "metadata": {
            "tags": []
          },
          "execution_count": 71
        }
      ]
    },
    {
      "cell_type": "markdown",
      "metadata": {
        "id": "RarCa3RGi4aa"
      },
      "source": [
        "Ex 2: Équation d’état de l’eau à partir de la dynamique moléculaire\n",
        "\n",
        "Afin de modéliser les planètes de type Jupiter, Saturne, ou même des exo-planètes très massives (dites « super-Jupiters »), la connaissance de l’équation d’état des composants est nécessaire. Ces équations d’état doivent être valables jusqu’à plusieurs centaines de méga-bar ; autrement dit, celles-ci ne sont en aucun cas accessibles expérimentalement. On peut cependant obtenir une équation d’état numériquement à partir d’une dynamique moléculaire.\n",
        "\n",
        "Le principe est le suivant : on place dans une boite un certain nombre de particules régies par les équations microscopiques (Newton par exemple, ou même par des équations prenant en considération la mécanique quantique) puis on laisse celles-ci évoluer dans la boite ; on calcule à chaque pas de temps l’énergie interne à partir des intéractions électrostatiques et la pression à partir du tenseur des contraintes. On obtient en sortie l’évolution du système pour une densité fixée (par le choix de taille de la boite) et une température fixée (par un algorithme de thermostat que nous ne détaillerons pas ici).\n",
        "\n",
        "On se propose d’analyser quelques fichiers de sortie de tels calculs pour l’équation d’état de l’eau à très haute pression. Les fichiers de sortie sont disponibles ici; leur nom indique les conditions thermodynamiques correspondant au fichier, p.ex. 6000K_30gcc.out pour T=6000\n",
        "K et ρ=30 gcc. Le but est, pour chaque condition température-densité, d’extraire l’évolution de l’énergie et de la pression au cours du temps, puis d’en extraire la valeur moyenne ainsi que les fluctuations. Il arrive souvent que l’état initial choisi pour le système ne corresponde pas à son état d’équilibre, et qu’il faille donc « jeter » les quelques pas de temps en début de simulation qui correspondent à cette relaxation du système. Pour savoir combien de temps prend cette relaxation, il sera utile de tracer l’évolution au cours du temps de la pression et l’énergie pour quelques simulations. Une fois l’équation d’état P(ρ,T) et E(ρ,T) extraite, on pourra tracer le réseau d’isothermes."
      ]
    },
    {
      "cell_type": "code",
      "metadata": {
        "id": "aePohBWhi4ae"
      },
      "source": [
        ""
      ],
      "execution_count": null,
      "outputs": []
    },
    {
      "cell_type": "markdown",
      "metadata": {
        "id": "FFZ-G4cQi4af"
      },
      "source": [
        "Ex 3: Le problème du voyageur de commerce\n",
        "\n",
        "Le problème du voyageur de commerce est un problème d’optimisation consistant à déterminer le plus court chemin reliant un ensemble de destinations. Il n’existe pas d’algorithme donnant la solution optimale en un temps raisonnable (problème NP-complet), mais l’on peut chercher à déterminer des solutions approchées. On va se placer ici dans le cas d’un livreur devant desservir une seule fois chacune desndestinations d’une ville américaine où les rues sont agencées en réseau carré. \n",
        "\n",
        "On utilise la « distance deManhattan »  entre deux points 𝐴(𝑥𝐴,𝑦𝐴) et 𝐵(𝑥𝐵,𝑦𝐵) : 𝑑(𝐴,𝐵) =|𝑥𝐵−𝑥𝐴|+|𝑦𝐵−𝑦𝐴|.\n",
        "\n",
        "En outre, on se place dans le cas où les coordonnées des destinations sont entières, comprises entre 0 (inclus) et TAILLE = 50 (exclus). Deux destinations peuvent éventuellement avoir les mêmes coordonnées. Les instructions suivantes doivent permettre de définir les classes nécessaires (Ville et Trajet) et de développer un algorithme approché (heuristiques) : l’algorithme du plus proche voisin. \n",
        "\n",
        "Seules la librairie standard et la librairie numpy sont utilisables si nécessaire. Implementer les classes et methodes suivante:\n",
        "\n",
        "\n",
        "Classe Ville:\n",
        "* __init__(): initialisation d’une ville sans destination.\n",
        "* aleatoire(n): création de n destinations aléatoires.\n",
        "* nb_trajet(): retourne le nombre total (entier) de trajets :(𝑛−1)!/2(utilisermath.factorial()).\n",
        "* distance(i, j): retourne la distance (Manhattan) entre les deux destinations de numéro i et j\n",
        "\n",
        "\n",
        "Classe Trajet:\n",
        "* __init__(ville, etapes=None): initialisation sur une ville. Si la liste etapes n’est pas spécifiée, le trajet par défaut est celui suivant les destinations de ville.\n",
        "* longueur(): retourne la longueur totale du trajetbouclé(i.e. revenant à son point de départ).\n",
        "\n",
        "\n",
        "Plus proche voisin:\n",
        "* Ville.plus_proche(i, exclus=[]): retourne la destination la plus proche de la destinationi(au sens de Ville.distance()), hors les destinations de la liste exclus\n",
        "* Ville.trajet_voisins(depart=0): retourne un Trajet déterminé selon l’heuristique des plus proches voisins (i.e. l’étape suivante est la destination la plus proche hors les destinations déjà visitées) en partant de l’étape initiale depart\n",
        "\n",
        "Optimisation:\n",
        "* Proposer un algorithme qui propose une meilleur alternative au \"plus proche voisin\".\n",
        "\n",
        "Interface:\n",
        "* Ville.figure(trajet=None): Afficher le plande la ville et le trajet obtenue (utiliser matplotlib.step()pour des trajets de type « Manhattan »)"
      ]
    },
    {
      "cell_type": "code",
      "metadata": {
        "id": "sSB64q_hi4ai",
        "colab": {
          "base_uri": "https://localhost:8080/"
        },
        "outputId": "9deefdd3-8de4-406c-cd3e-1debf8fa2be4"
      },
      "source": [
        "import random\r\n",
        "import math\r\n",
        "\r\n",
        "class trajet:\r\n",
        "  def __init__(self, ville, etapes=None):\r\n",
        "    self.ville = ville\r\n",
        "    if etapes != None:\r\n",
        "      self.etapes = etapes\r\n",
        "    else:\r\n",
        "      self.etapes = ville.destinations\r\n",
        "  \r\n",
        "  def longueur():\r\n",
        "    sum = 0\r\n",
        "    for i in range(len(self.etapes)-2):\r\n",
        "      sum += self.ville.distance(i, i+1)\r\n",
        "    return sum\r\n",
        "\r\n",
        "class Ville:\r\n",
        "   def __init__(self, nom):\r\n",
        "     # On init les destinations avec un tableau vide\r\n",
        "      self.nom = nom\r\n",
        "      self.destinations = []\r\n",
        "      self.aleatoire(10)\r\n",
        "    \r\n",
        "   def aleatoire(self, n):\r\n",
        "     # On parcours n en ajoutant un tableau de deux random entre 0-49 dans destinations\r\n",
        "     for i in range(n-1):\r\n",
        "       self.destinations.append([random.randint(0, 49),random.randint(0, 49)])\r\n",
        "   \r\n",
        "   def nb_trajet(self):\r\n",
        "     # On calcul n-1!/2 ou n est la length du tableau destinations\r\n",
        "     return math.factorial(len(self.destinations)-1)/2\r\n",
        "\r\n",
        "   def distance(self, i, j):\r\n",
        "     distanceX = self.destinations[i][0] - self.destinations[j][0] # On selectionne les x donc on prend 0 en index\r\n",
        "     distanceY = self.destinations[i][1] - self.destinations[j][0] # On selectionne les y donc on prend 1 en index\r\n",
        "     distance = math.sqrt( (distanceX**2) + (distanceY**2) ) #Distance de manhattan\r\n",
        "     return distance\r\n",
        "   \r\n",
        "   def plus_proche(self, i, exclus=[]):\r\n",
        "     proche = [None, 50] #Initilasation de proche 0: inex, 1: distance\r\n",
        "     for j in range(len(self.destinations)-1): #parcours de destination\r\n",
        "       if j != i and self.destinations.count(i) == 0: #Ne pas prendre i et les exclus\r\n",
        "         actuel = self.distance(i,j) #distance\r\n",
        "         if actuel < proche[1]: #Choisir minimu des deux distances\r\n",
        "           proche = [j, actuel]\r\n",
        "     return proche\r\n",
        "\r\n",
        "   def trajet_voisins(self, depart=0):\r\n",
        "     etapes = [] #Initialisation de etapes\r\n",
        "     exclus = [] #Initialisation de exclus\r\n",
        "     for i in range(depart, len(self.destinations)-1): #parcours de destination\r\n",
        "       plusProche = self.plus_proche(i, exclus) #Prends plus proche\r\n",
        "       exclus.append(plusProche[0]) #Ajoute l'index dans exclus\r\n",
        "       etapes.append(self.destinations[i]) #Ajoute les coordonnées dans etapes\r\n",
        "\r\n",
        "     return trajet(self,etapes=etapes)\r\n",
        "\r\n",
        "newVille = Ville(\"monaco\")\r\n",
        "print(newVille.destinations)\r\n",
        "print(newVille.nb_trajet())\r\n",
        "print(newVille.distance(1,2))\r\n",
        "print(newVille.plus_proche(1))\r\n",
        "print(newVille.trajet_voisins().etapes)"
      ],
      "execution_count": 68,
      "outputs": [
        {
          "output_type": "stream",
          "text": [
            "[[26, 35], [31, 40], [45, 5], [18, 17], [19, 45], [40, 43], [40, 38], [28, 8], [29, 43]]\n",
            "20160.0\n",
            "14.866068747318506\n",
            "[5, 9.0]\n",
            "[[26, 35], [31, 40], [45, 5], [18, 17], [19, 45], [40, 43], [40, 38], [28, 8]]\n"
          ],
          "name": "stdout"
        }
      ]
    }
  ]
}